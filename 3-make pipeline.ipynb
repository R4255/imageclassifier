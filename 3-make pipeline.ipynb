{
 "cells": [
  {
   "cell_type": "code",
   "execution_count": 1,
   "metadata": {},
   "outputs": [
    {
     "name": "stderr",
     "output_type": "stream",
     "text": [
      "C:\\Users\\rohit\\anaconda3\\Lib\\site-packages\\paramiko\\transport.py:219: CryptographyDeprecationWarning: Blowfish has been deprecated\n",
      "  \"class\": algorithms.Blowfish,\n"
     ]
    }
   ],
   "source": [
    "import numpy as np\n",
    "import pandas as pd\n",
    "import scipy\n",
    "import sklearn\n",
    "from sklearn.pipeline import make_pipeline\n",
    "import os\n",
    "\n",
    "# skimage\n",
    "import skimage\n",
    "import skimage.color\n",
    "import skimage.transform\n",
    "import skimage.feature\n",
    "import skimage.io"
   ]
  },
  {
   "cell_type": "code",
   "execution_count": 2,
   "metadata": {},
   "outputs": [],
   "source": [
    "    from sklearn.base import BaseEstimator, TransformerMixin\n",
    "    \n",
    "    class rgb2gray_transform(BaseEstimator,TransformerMixin):\n",
    "        import skimage.color\n",
    "        def __init__(self):\n",
    "            pass\n",
    "        \n",
    "        def fit(self,X,y=None):\n",
    "            return self\n",
    "        \n",
    "        def transform(self,X,y=None):\n",
    "            return np.array([skimage.color.rgb2gray(x) for x in X])\n",
    "        \n",
    "        \n",
    "    class hogtransformer(BaseEstimator,TransformerMixin):\n",
    "        import skimage.feature\n",
    "        def __init__(self,orientations=9,pixels_per_cell=(8, 8),cells_per_block=(3, 3),):\n",
    "            self.orientations = orientations\n",
    "            self.pixels_per_cell = pixels_per_cell\n",
    "            self.cells_per_block = cells_per_block\n",
    "            \n",
    "            \n",
    "        def fit(self,X,y=None):\n",
    "            return self\n",
    "        \n",
    "        def transform(self,X,y=None):\n",
    "            def local_hog(img):\n",
    "                hog_features= skimage.feature.hog(img,orientations=self.orientations,\n",
    "                                    pixels_per_cell=self.pixels_per_cell,\n",
    "                                    cells_per_block=self.cells_per_block)\n",
    "                \n",
    "                return hog_features\n",
    "            \n",
    "            hfeatures = np.array([local_hog(x) for x in X])\n",
    "            return hfeatures"
   ]
  },
  {
   "cell_type": "code",
   "execution_count": 3,
   "metadata": {},
   "outputs": [],
   "source": [
    "import matplotlib.pyplot as plt\n",
    "%matplotlib inline"
   ]
  },
  {
   "cell_type": "code",
   "execution_count": 4,
   "metadata": {},
   "outputs": [],
   "source": [
    "# pipeline model\n",
    "image = skimage.io.imread('eagle.jpg')\n",
    "# transform image into 80 x 80\n",
    "image_resize = skimage.transform.resize(image,(80,80))\n",
    "image_scale = 255*image_resize\n",
    "image_transform = image_scale.astype(np.uint8)\n",
    "# rgb to gray\n",
    "gray = skimage.color.rgb2gray(image_transform)\n",
    "# hog feature\n",
    "feature_vector = skimage.feature.hog(gray,\n",
    "                              orientations=10,\n",
    "                              pixels_per_cell=(8,8),cells_per_block=(2,2))"
   ]
  },
  {
   "cell_type": "code",
   "execution_count": 5,
   "metadata": {},
   "outputs": [
    {
     "data": {
      "text/plain": [
       "array([0.19801825, 0.14617992, 0.12000975, ..., 0.0459591 , 0.04528046,\n",
       "       0.00672236])"
      ]
     },
     "execution_count": 5,
     "metadata": {},
     "output_type": "execute_result"
    }
   ],
   "source": [
    "feature_vector"
   ]
  },
  {
   "cell_type": "code",
   "execution_count": 6,
   "metadata": {},
   "outputs": [],
   "source": [
    "import pickle\n",
    "# load the model\n",
    "model = pickle.load(open('dsa_image_classification_sgd.pickle','rb'))\n",
    "scaler = pickle.load(open('dsa_scaler.pickle','rb'))"
   ]
  },
  {
   "cell_type": "code",
   "execution_count": 7,
   "metadata": {},
   "outputs": [
    {
     "data": {
      "text/plain": [
       "(3240,)"
      ]
     },
     "execution_count": 7,
     "metadata": {},
     "output_type": "execute_result"
    }
   ],
   "source": [
    "feature_vector.shape"
   ]
  },
  {
   "cell_type": "code",
   "execution_count": 8,
   "metadata": {},
   "outputs": [],
   "source": [
    "scalex = scaler.transform(feature_vector.reshape(1,-1))\n",
    "result = model.predict(scalex)"
   ]
  },
  {
   "cell_type": "code",
   "execution_count": 9,
   "metadata": {},
   "outputs": [
    {
     "data": {
      "text/plain": [
       "array(['eagle'], dtype='<U8')"
      ]
     },
     "execution_count": 9,
     "metadata": {},
     "output_type": "execute_result"
    }
   ],
   "source": [
    "result"
   ]
  },
  {
   "cell_type": "code",
   "execution_count": 11,
   "metadata": {},
   "outputs": [],
   "source": [
    "#calculate the probability \n",
    "decision_value=model.decision_function(scalex)"
   ]
  },
  {
   "cell_type": "code",
   "execution_count": 12,
   "metadata": {},
   "outputs": [
    {
     "data": {
      "text/plain": [
       "array([[-185.02611619, -183.03121505, -117.5273228 , -164.96992105,\n",
       "        -241.93165245, -158.31304776,   -6.43983409,   38.85441849,\n",
       "        -216.00548115, -148.89556303, -257.74192181,  -91.06720439,\n",
       "        -221.63287369, -177.96634126,  -83.33553412,  -64.76372862,\n",
       "        -172.52901339, -175.8943202 , -169.06071197, -301.48957273]])"
      ]
     },
     "execution_count": 12,
     "metadata": {},
     "output_type": "execute_result"
    }
   ],
   "source": [
    "decision_value"
   ]
  },
  {
   "cell_type": "code",
   "execution_count": 31,
   "metadata": {},
   "outputs": [],
   "source": [
    "labels = model.classes_"
   ]
  },
  {
   "cell_type": "code",
   "execution_count": 30,
   "metadata": {},
   "outputs": [],
   "source": [
    "decision_value = decision_value.flatten()"
   ]
  },
  {
   "cell_type": "code",
   "execution_count": 35,
   "metadata": {},
   "outputs": [
    {
     "data": {
      "image/png": "[encoded data removed]",
      "text/plain": [
       "<Figure size 432x288 with 1 Axes>"
      ]
     },
     "metadata": {
      "needs_background": "light"
     },
     "output_type": "display_data"
    }
   ],
   "source": [
    "plt.barh(labels,decision_value)\n",
    "plt.grid()"
   ]
  },
  {
   "cell_type": "code",
   "execution_count": 37,
   "metadata": {},
   "outputs": [
    {
     "data": {
      "text/plain": [
       "array([0.03000827, 0.01800691, 0.09473694, 0.01997421, 0.00851442,\n",
       "       0.0308835 , 0.16170897, 0.18217969, 0.00909048, 0.04457203,\n",
       "       0.00841702, 0.07811273, 0.01103387, 0.01828316, 0.08662433,\n",
       "       0.09341782, 0.04000368, 0.03070585, 0.02798382, 0.00574228])"
      ]
     },
     "execution_count": 37,
     "metadata": {},
     "output_type": "execute_result"
    }
   ],
   "source": [
    "# cal. z score\n",
    "z = scipy.stats.zscore(decision_value)\n",
    "prob_value = scipy.special.softmax(z)\n",
    "prob_value"
   ]
  },
  {
   "cell_type": "code",
   "execution_count": 38,
   "metadata": {},
   "outputs": [
    {
     "data": {
      "image/png": "[encoded data removed]",
      "text/plain": [
       "<Figure size 432x288 with 1 Axes>"
      ]
     },
     "metadata": {
      "needs_background": "light"
     },
     "output_type": "display_data"
    }
   ],
   "source": [
    "plt.barh(labels,prob_value)\n",
    "plt.grid()"
   ]
  },
  {
   "cell_type": "code",
   "execution_count": 47,
   "metadata": {},
   "outputs": [],
   "source": [
    "# top five probabilty values\n",
    "top_5_prob_ind = prob_value.argsort()[::-1][:5]"
   ]
  },
  {
   "cell_type": "code",
   "execution_count": 48,
   "metadata": {},
   "outputs": [
    {
     "data": {
      "text/plain": [
       "array([ 7,  6,  2, 15, 14], dtype=int64)"
      ]
     },
     "execution_count": 48,
     "metadata": {},
     "output_type": "execute_result"
    }
   ],
   "source": [
    "top_5_prob_ind"
   ]
  },
  {
   "cell_type": "code",
   "execution_count": 50,
   "metadata": {},
   "outputs": [],
   "source": [
    "top_labels = labels[top_5_prob_ind]\n",
    "top_prob = prob_value[top_5_prob_ind]"
   ]
  },
  {
   "cell_type": "code",
   "execution_count": 52,
   "metadata": {},
   "outputs": [
    {
     "data": {
      "text/plain": [
       "(array([0.18217969, 0.16170897, 0.09473694, 0.09341782, 0.08662433]),\n",
       " array(['eagle', 'duck', 'chicken', 'pigeon', 'panda'], dtype='<U8'))"
      ]
     },
     "execution_count": 52,
     "metadata": {},
     "output_type": "execute_result"
    }
   ],
   "source": [
    "top_prob,top_labels"
   ]
  },
  {
   "cell_type": "code",
   "execution_count": 57,
   "metadata": {},
   "outputs": [],
   "source": [
    "top_dict = dict()\n",
    "for key,val in zip(top_labels,top_prob):\n",
    "    top_dict.update({key:np.round(val,3)})"
   ]
  },
  {
   "cell_type": "code",
   "execution_count": 58,
   "metadata": {},
   "outputs": [
    {
     "data": {
      "text/plain": [
       "{'eagle': 0.182,\n",
       " 'duck': 0.162,\n",
       " 'chicken': 0.095,\n",
       " 'pigeon': 0.093,\n",
       " 'panda': 0.087}"
      ]
     },
     "execution_count": 58,
     "metadata": {},
     "output_type": "execute_result"
    }
   ],
   "source": [
    "top_dict"
   ]
  },
  {
   "cell_type": "code",
   "execution_count": 60,
   "metadata": {},
   "outputs": [],
   "source": [
    "def pipeline_model(path,scaler_transform,model_sgd):\n",
    "    # pipeline model\n",
    "    image = skimage.io.imread(path)\n",
    "    # transform image into 80 x 80\n",
    "    image_resize = skimage.transform.resize(image,(80,80))\n",
    "    image_scale = 255*image_resize\n",
    "    image_transform = image_scale.astype(np.uint8)\n",
    "    # rgb to gray\n",
    "    gray = skimage.color.rgb2gray(image_transform)\n",
    "    # hog feature\n",
    "    feature_vector = skimage.feature.hog(gray,\n",
    "                                  orientations=10,\n",
    "                                  pixels_per_cell=(8,8),cells_per_block=(2,2))\n",
    "    # scaling\n",
    "    \n",
    "    scalex = scaler_transform.transform(feature_vector.reshape(1,-1))\n",
    "    result = model_sgd.predict(scalex)\n",
    "    # decision function # confidence\n",
    "    decision_value = model_sgd.decision_function(scalex).flatten()\n",
    "    labels = model_sgd.classes_\n",
    "    # probability\n",
    "    z = scipy.stats.zscore(decision_value)\n",
    "    prob_value = scipy.special.softmax(z)\n",
    "    \n",
    "    # top 5\n",
    "    top_5_prob_ind = prob_value.argsort()[::-1][:5]\n",
    "    top_labels = labels[top_5_prob_ind]\n",
    "    top_prob = prob_value[top_5_prob_ind]\n",
    "    # put in dictornary\n",
    "    top_dict = dict()\n",
    "    for key,val in zip(top_labels,top_prob):\n",
    "        top_dict.update({key:np.round(val,3)})\n",
    "    \n",
    "    return top_dict"
   ]
  },
  {
   "cell_type": "code",
   "execution_count": 61,
   "metadata": {},
   "outputs": [
    {
     "data": {
      "text/plain": [
       "{'eagle': 0.182,\n",
       " 'duck': 0.162,\n",
       " 'chicken': 0.095,\n",
       " 'pigeon': 0.093,\n",
       " 'panda': 0.087}"
      ]
     },
     "execution_count": 61,
     "metadata": {},
     "output_type": "execute_result"
    }
   ],
   "source": [
    "res = pipeline_model('eagle.jpg',scaler,model)\n",
    "res"
   ]
  },
  {
   "cell_type": "code",
   "execution_count": null,
   "metadata": {},
   "outputs": [],
   "source": []
  },
  {
   "cell_type": "code",
   "execution_count": null,
   "metadata": {},
   "outputs": [],
   "source": []
  },
  {
   "cell_type": "code",
   "execution_count": null,
   "metadata": {},
   "outputs": [],
   "source": []
  },
  {
   "cell_type": "code",
   "execution_count": null,
   "metadata": {},
   "outputs": [],
   "source": []
  },
  {
   "cell_type": "code",
   "execution_count": null,
   "metadata": {},
   "outputs": [],
   "source": []
  },
  {
   "cell_type": "code",
   "execution_count": null,
   "metadata": {},
   "outputs": [],
   "source": []
  },
  {
   "cell_type": "code",
   "execution_count": null,
   "metadata": {},
   "outputs": [],
   "source": []
  },
  {
   "cell_type": "code",
   "execution_count": null,
   "metadata": {},
   "outputs": [],
   "source": []
  },
  {
   "cell_type": "code",
   "execution_count": null,
   "metadata": {},
   "outputs": [],
   "source": []
  }
 ],
 "metadata": {
  "kernelspec": {
   "display_name": "Python 3 (ipykernel)",
   "language": "python",
   "name": "python3"
  },
  "language_info": {
   "codemirror_mode": {
    "name": "ipython",
    "version": 3
   },
   "file_extension": ".py",
   "mimetype": "text/x-python",
   "name": "python",
   "nbconvert_exporter": "python",
   "pygments_lexer": "ipython3",
   "version": "3.11.3"
  }
 },
 "nbformat": 4,
 "nbformat_minor": 4
}
